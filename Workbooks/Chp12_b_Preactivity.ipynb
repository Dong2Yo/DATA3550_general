{
  "nbformat": 4,
  "nbformat_minor": 0,
  "metadata": {
    "colab": {
      "provenance": [],
      "include_colab_link": true
    },
    "kernelspec": {
      "display_name": "Python 3 (ipykernel)",
      "language": "python",
      "name": "python3"
    },
    "language_info": {
      "codemirror_mode": {
        "name": "ipython",
        "version": 3
      },
      "file_extension": ".py",
      "mimetype": "text/x-python",
      "name": "python",
      "nbconvert_exporter": "python",
      "pygments_lexer": "ipython3",
      "version": "3.8.11"
    }
  },
  "cells": [
    {
      "cell_type": "markdown",
      "metadata": {
        "id": "view-in-github",
        "colab_type": "text"
      },
      "source": [
        "<a href=\"https://colab.research.google.com/github/Dong2Yo/DATA3550_1232/blob/main/Workbooks/Chp12_b_Preactivity.ipynb\" target=\"_parent\"><img src=\"https://colab.research.google.com/assets/colab-badge.svg\" alt=\"Open In Colab\"/></a>"
      ]
    },
    {
      "cell_type": "markdown",
      "metadata": {
        "id": "3o5bpopjWZ6N"
      },
      "source": [
        "##### **Chapter 12.b Pre-activity One, & Two**\n"
      ]
    },
    {
      "cell_type": "markdown",
      "metadata": {
        "id": "foYixCpVj-1v"
      },
      "source": [
        "**One:**\n",
        "\n",
        "Create a selection sort algorithm to sort a list of integers in descending order.\n",
        "\n",
        "Provide a test case."
      ]
    },
    {
      "cell_type": "code",
      "metadata": {
        "id": "irIiO56_j-1w"
      },
      "source": [],
      "execution_count": null,
      "outputs": []
    },
    {
      "cell_type": "markdown",
      "metadata": {
        "id": "N3jprXfJj-1x"
      },
      "source": [
        "**Two:**\n",
        "\n",
        "Create a bubble sort algorithm to sort a list of integers in descending order.\n",
        "\n",
        "Provide a test case."
      ]
    },
    {
      "cell_type": "code",
      "metadata": {
        "id": "lA5GMcD3j-1y"
      },
      "source": [],
      "execution_count": null,
      "outputs": []
    }
  ]
}