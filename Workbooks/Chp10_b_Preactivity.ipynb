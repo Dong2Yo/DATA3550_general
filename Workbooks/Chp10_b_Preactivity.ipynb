{
  "nbformat": 4,
  "nbformat_minor": 0,
  "metadata": {
    "colab": {
      "provenance": [],
      "include_colab_link": true
    },
    "kernelspec": {
      "display_name": "Python 3 (ipykernel)",
      "language": "python",
      "name": "python3"
    },
    "language_info": {
      "codemirror_mode": {
        "name": "ipython",
        "version": 3
      },
      "file_extension": ".py",
      "mimetype": "text/x-python",
      "name": "python",
      "nbconvert_exporter": "python",
      "pygments_lexer": "ipython3",
      "version": "3.8.11"
    }
  },
  "cells": [
    {
      "cell_type": "markdown",
      "metadata": {
        "id": "view-in-github",
        "colab_type": "text"
      },
      "source": [
        "<a href=\"https://colab.research.google.com/github/Dong2Yo/DATA3550_1232/blob/main/Workbooks/Chp10_b_Preactivity.ipynb\" target=\"_parent\"><img src=\"https://colab.research.google.com/assets/colab-badge.svg\" alt=\"Open In Colab\"/></a>"
      ]
    },
    {
      "cell_type": "markdown",
      "metadata": {
        "id": "3o5bpopjWZ6N"
      },
      "source": [
        "##### **Chapter 10.b Pre-activity One & Two**\n"
      ]
    },
    {
      "cell_type": "code",
      "source": [
        "class Person :\n",
        "\n",
        "   def __init__(self, name, year) :\n",
        "      self._name = name\n",
        "      self._year = year\n",
        "\n",
        "   def __repr__(self) :\n",
        "      return self._name + \", born \" + str(self._year)\n",
        ""
      ],
      "metadata": {
        "id": "8ZpXgIVPMaC-"
      },
      "execution_count": null,
      "outputs": []
    },
    {
      "cell_type": "markdown",
      "metadata": {
        "id": "PzvThiG5KC58"
      },
      "source": [
        "**One:**\n",
        "\n",
        "A superclass Person is provided. Make one class, Student, that inherit from Person.\n",
        "\n",
        "    A person has a name and a year of birth;\n",
        "    A student has a major;\n",
        "   \n",
        "\n",
        "Write the __repr__ method for the subclass.\n",
        "\n",
        "Supply a test program that tests these classes and methods."
      ]
    },
    {
      "cell_type": "code",
      "source": [],
      "metadata": {
        "id": "HqsUpJ8crcny"
      },
      "execution_count": null,
      "outputs": []
    },
    {
      "cell_type": "markdown",
      "metadata": {
        "id": "OVtp-gv8KC59"
      },
      "source": [
        "**Two:**\n",
        "\n",
        "A superclass Person is provided. Make one class, Instructor, that inherit from Person.\n",
        "\n",
        "    A person has a name and a year of birth;\n",
        "    An instructor has a salary.\n",
        "\n",
        "Write the class declarations, the constructors, and the __repr__ method for all classes. Supply a test program that tests these classes and methods."
      ]
    },
    {
      "cell_type": "code",
      "source": [],
      "metadata": {
        "id": "F18giJn-rejf"
      },
      "execution_count": null,
      "outputs": []
    }
  ]
}