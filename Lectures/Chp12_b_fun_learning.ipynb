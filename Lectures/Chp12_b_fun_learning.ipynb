{
  "cells": [
    {
      "cell_type": "markdown",
      "metadata": {
        "id": "view-in-github",
        "colab_type": "text"
      },
      "source": [
        "<a href=\"https://colab.research.google.com/github/Dong2Yo/DATA3550_1232/blob/main/Lectures/Chp12_b_fun_learning.ipynb\" target=\"_parent\"><img src=\"https://colab.research.google.com/assets/colab-badge.svg\" alt=\"Open In Colab\"/></a>"
      ]
    },
    {
      "cell_type": "markdown",
      "id": "d50c7349-6bb4-4c93-98c3-6a6764889c41",
      "metadata": {
        "id": "d50c7349-6bb4-4c93-98c3-6a6764889c41"
      },
      "source": [
        "# Chapter 12 Sorting & Searching (contd)"
      ]
    },
    {
      "cell_type": "markdown",
      "id": "a0c55415-9dd3-4507-b2ba-bd39f6a401e8",
      "metadata": {
        "id": "a0c55415-9dd3-4507-b2ba-bd39f6a401e8"
      },
      "source": [
        "## Polymorphism"
      ]
    },
    {
      "cell_type": "markdown",
      "id": "8d7bbfd7-9440-4e31-b02a-d7350c9c997f",
      "metadata": {
        "id": "8d7bbfd7-9440-4e31-b02a-d7350c9c997f"
      },
      "source": [
        "Polymorphism in Python enables code reusability, flexibility, and readability by allowing objects to be treated uniformly despite their differences in implementation. It is a powerful concept in object-oriented programming that simplifies the design and implementation of complex systems."
      ]
    },
    {
      "cell_type": "markdown",
      "id": "b3f9b483-0b54-4b0d-adfa-d86089eb0482",
      "metadata": {
        "id": "b3f9b483-0b54-4b0d-adfa-d86089eb0482"
      },
      "source": [
        ">Polymorphism is a fundamental concept in object-oriented programming (OOP) that allows objects of different classes to be treated as objects of a common superclass. In Python, polymorphism is achieved through method overriding and method overloading."
      ]
    },
    {
      "cell_type": "markdown",
      "id": "6bc6d82e-2fc0-4628-bf3f-a9346d3a1191",
      "metadata": {
        "id": "6bc6d82e-2fc0-4628-bf3f-a9346d3a1191"
      },
      "source": [
        "### Method Overriding:\n",
        "\n",
        "Method overriding occurs when a subclass provides a specific implementation of a method that is already defined in its superclass. This allows objects of the subclass to use the overridden method instead of the one defined in the superclass."
      ]
    },
    {
      "cell_type": "code",
      "execution_count": null,
      "id": "fc67f23d-2638-4066-ad93-7a492a319d79",
      "metadata": {
        "id": "fc67f23d-2638-4066-ad93-7a492a319d79"
      },
      "outputs": [],
      "source": [
        "class Animal:\n",
        "    def sound(self):\n",
        "        print(\"Animal makes a sound\")\n",
        "\n",
        "class Dog(Animal):\n",
        "    ## def sound(self):\n",
        "       ...\n",
        "\n",
        "class Cat(Animal):\n",
        "    ## def sound(self):\n",
        "        ...\n"
      ]
    },
    {
      "cell_type": "markdown",
      "id": "96a231c9-556c-4725-a340-2c96a04e1c36",
      "metadata": {
        "id": "96a231c9-556c-4725-a340-2c96a04e1c36"
      },
      "source": [
        "### Method Overloading:\n",
        "\n",
        "Method overloading involves defining multiple methods with the same name but different signatures (number or type of parameters). Although Python does not support method overloading directly, it can be emulated using default parameter values or variable-length argument lists."
      ]
    },
    {
      "cell_type": "code",
      "execution_count": null,
      "id": "c1af8b15-6ccc-43fb-8619-3c6dbe16e67b",
      "metadata": {
        "id": "c1af8b15-6ccc-43fb-8619-3c6dbe16e67b"
      },
      "outputs": [],
      "source": []
    },
    {
      "cell_type": "markdown",
      "id": "c273e9bd-15f2-4613-95bd-9591a65acfb3",
      "metadata": {
        "id": "c273e9bd-15f2-4613-95bd-9591a65acfb3"
      },
      "source": [
        "### Duck Typing:\n",
        "\n",
        "Python follows the principle of \"duck typing,\" which means the type or class of an object is less important than the methods it defines. If an object implements a particular method, it can be used wherever that method is expected, regardless of its actual class."
      ]
    },
    {
      "cell_type": "code",
      "execution_count": null,
      "id": "5fe67e3e-7170-49fb-b597-8c58fe789426",
      "metadata": {
        "id": "5fe67e3e-7170-49fb-b597-8c58fe789426"
      },
      "outputs": [],
      "source": [
        "class Duck:\n",
        "    def sound(self):\n",
        "        print(\"Quack\")\n",
        "\n",
        "class Car:\n",
        "    def sound(self):\n",
        "        print(\"Vroom\")\n",
        "\n",
        "... ..."
      ]
    },
    {
      "cell_type": "markdown",
      "id": "cf59b793-3493-4ff4-9830-aeabd8b2882f",
      "metadata": {
        "id": "cf59b793-3493-4ff4-9830-aeabd8b2882f"
      },
      "source": [
        "## Search"
      ]
    },
    {
      "cell_type": "markdown",
      "id": "5b340702-3ab7-4d0e-93be-e9fc2cc2407e",
      "metadata": {
        "id": "5b340702-3ab7-4d0e-93be-e9fc2cc2407e"
      },
      "source": [
        "The objective of this notebook is to introduce and explain two fundamental search algorithms: Linear Search and Binary Search. We will explore their concepts, implementations, and compare their efficiencies using a business case scenario."
      ]
    },
    {
      "cell_type": "markdown",
      "id": "424e9db9-afb0-4e06-991e-3aa23e03c851",
      "metadata": {
        "id": "424e9db9-afb0-4e06-991e-3aa23e03c851"
      },
      "source": [
        "### 1. Linear Search:\n",
        "\n",
        "Linear search is a simple search algorithm that checks each element in a list sequentially until the target element is found or the list is exhausted.\n",
        "\n",
        "**Algorithm:**\n",
        "\n",
        "- Start from the first element in the list.\n",
        "- Compare the target element with each element of the list.\n",
        "- If the target element is found, return its index.\n",
        "- If the target element is not found after checking all elements, return a \"not found\" indication."
      ]
    },
    {
      "cell_type": "markdown",
      "id": "ef679c16-315e-4f4e-8748-93341541b05d",
      "metadata": {
        "id": "ef679c16-315e-4f4e-8748-93341541b05d"
      },
      "source": [
        "**Example**\n",
        "\n",
        "Consider a scenario where a retail store wants to find if a particular product is available in their inventory."
      ]
    },
    {
      "cell_type": "code",
      "execution_count": null,
      "id": "4e926abe-7241-4ff2-af88-cbda13d57c0e",
      "metadata": {
        "id": "4e926abe-7241-4ff2-af88-cbda13d57c0e"
      },
      "outputs": [],
      "source": [
        "def linear_search(arr, target):\n",
        "    for i in range(len(arr)):\n",
        "        if arr[i] == target:\n",
        "            return i\n",
        "    return -1\n",
        "\n"
      ]
    },
    {
      "cell_type": "code",
      "execution_count": null,
      "id": "1d62ddbc-da3d-419e-943b-bce9732e64dc",
      "metadata": {
        "id": "1d62ddbc-da3d-419e-943b-bce9732e64dc"
      },
      "outputs": [],
      "source": []
    },
    {
      "cell_type": "markdown",
      "id": "fee6d59d-5d35-4eb3-823a-4807ca8ca771",
      "metadata": {
        "id": "fee6d59d-5d35-4eb3-823a-4807ca8ca771"
      },
      "source": [
        "### 2. Binary Search:\n",
        "\n",
        "Binary search is a more efficient search algorithm for sorted lists. It works by repeatedly dividing the search interval in half.\n",
        "\n",
        "**Algorithm:**\n",
        "\n",
        "- Compare the target element with the middle element of the list.\n",
        "- If the target element matches the middle element, return its index.\n",
        "- If the target element is less than the middle element, repeat the search on the left half of the list.\n",
        "- If the target element is greater than the middle element, repeat the search on the right half of the list.\n",
        "- Continue this process until the target element is found or the search interval is empty."
      ]
    },
    {
      "cell_type": "markdown",
      "id": "bd51985c-802b-487a-a393-5c97e04c5f13",
      "metadata": {
        "id": "bd51985c-802b-487a-a393-5c97e04c5f13"
      },
      "source": [
        "**Example:**\n",
        "    \n",
        "Suppose the same retail store wants to find if a particular product is available in their sorted inventory."
      ]
    },
    {
      "cell_type": "code",
      "execution_count": null,
      "id": "276be014-e888-4d0b-9bcd-12968da8da17",
      "metadata": {
        "id": "276be014-e888-4d0b-9bcd-12968da8da17"
      },
      "outputs": [],
      "source": [
        "def binary_search(arr, target):\n",
        "    low = 0\n",
        "    high = len(arr) - 1\n",
        "    while low <= high:\n",
        "        mid = (low + high) // 2\n",
        "        if arr[mid] == target:\n",
        "            return mid\n",
        "        elif arr[mid] < target:\n",
        "            low = mid + 1\n",
        "        else:\n",
        "            high = mid - 1\n",
        "    return -1\n",
        "\n"
      ]
    },
    {
      "cell_type": "code",
      "execution_count": null,
      "id": "1928c180-4603-42bf-822d-0b102e3fb749",
      "metadata": {
        "id": "1928c180-4603-42bf-822d-0b102e3fb749"
      },
      "outputs": [],
      "source": []
    },
    {
      "cell_type": "markdown",
      "id": "78e79581-2008-4d8f-bcca-059ee0db6891",
      "metadata": {
        "id": "78e79581-2008-4d8f-bcca-059ee0db6891"
      },
      "source": [
        "## Ex."
      ]
    },
    {
      "cell_type": "markdown",
      "id": "cc209d37-a419-4dbe-a7e3-54f1a9cb9b97",
      "metadata": {
        "id": "cc209d37-a419-4dbe-a7e3-54f1a9cb9b97"
      },
      "source": [
        "Business Context Description:\n",
        "\n",
        "In a large company, managing employee data efficiently is crucial for various HR operations.\n",
        "\n",
        "One of the critical tasks is quickly retrieving employee details based on their unique employee IDs. The company's database contains employee records sorted by their IDs.\n",
        "\n",
        "As a part of the optimization effort, the HR department wants to implement search functionality to find employee details using both linear search and binary search algorithms."
      ]
    },
    {
      "cell_type": "markdown",
      "id": "1c635101-3c76-4d70-a29c-a47fdcc78b51",
      "metadata": {
        "id": "1c635101-3c76-4d70-a29c-a47fdcc78b51"
      },
      "source": [
        "### Linear Search Analysis:\n",
        "\n",
        "- What is linear search, and how does it work?\n",
        "- What is the time complexity of linear search?\n",
        "- When is linear search suitable, and when is it not?"
      ]
    },
    {
      "cell_type": "code",
      "execution_count": null,
      "id": "5cddc8fa-e791-4c9e-a751-e3b04e853478",
      "metadata": {
        "id": "5cddc8fa-e791-4c9e-a751-e3b04e853478"
      },
      "outputs": [],
      "source": []
    },
    {
      "cell_type": "markdown",
      "id": "becf6c8e-2cd2-4857-8d78-33d3bfe87f89",
      "metadata": {
        "id": "becf6c8e-2cd2-4857-8d78-33d3bfe87f89"
      },
      "source": [
        "## Binary Search Analysis:\n",
        "\n",
        "- What is binary search, and how does it work?\n",
        "- What is the time complexity of binary search?\n",
        "- What are the prerequisites for using binary search?"
      ]
    },
    {
      "cell_type": "code",
      "execution_count": null,
      "id": "17230138-e991-4464-9a1c-5305d5cb34ae",
      "metadata": {
        "id": "17230138-e991-4464-9a1c-5305d5cb34ae"
      },
      "outputs": [],
      "source": []
    },
    {
      "cell_type": "markdown",
      "id": "f222b3ba-0146-405c-8944-ac590075dabf",
      "metadata": {
        "id": "f222b3ba-0146-405c-8944-ac590075dabf"
      },
      "source": [
        "## Business Scenario:\n",
        "\n",
        "Assume the company has thousands of employees sorted by their IDs. Implement a Python program using linear search to find the details of an employee with ID 305.\n",
        "\n",
        "Modify the program to use binary search instead and verify its efficiency."
      ]
    },
    {
      "cell_type": "code",
      "execution_count": null,
      "id": "b7ee1c35-bcc6-4e10-b2cb-c6cf1a00f589",
      "metadata": {
        "id": "b7ee1c35-bcc6-4e10-b2cb-c6cf1a00f589"
      },
      "outputs": [],
      "source": [
        "class Employee:\n",
        "    def __init__(self, employee_id, name, department):\n",
        "        self.employee_id = employee_id\n",
        "        self.name = name\n",
        "        self.department = department\n",
        "\n",
        "class EmployeeDatabase:\n",
        "    def __init__(self):\n",
        "        self.employee_list = []\n",
        "\n",
        "    def add_employee(self, employee):\n",
        "        self.employee_list.append(employee)\n",
        "\n",
        "    def sort_employee_list(self):\n",
        "        self.employee_list.sort(key=lambda x: x.employee_id)\n",
        "\n",
        "    def linear_search(self, target_id):\n",
        "        for employee in self.employee_list:\n",
        "            if employee.employee_id == target_id:\n",
        "                return employee\n",
        "        return None\n",
        "\n",
        "    def binary_search(self, target_id):\n",
        "        low = 0\n",
        "        high = len(self.employee_list) - 1\n",
        "\n",
        "        while low <= high:\n",
        "            mid = (low + high) // 2\n",
        "            if self.employee_list[mid].employee_id == target_id:\n",
        "                return self.employee_list[mid]\n",
        "            elif self.employee_list[mid].employee_id < target_id:\n",
        "                low = mid + 1\n",
        "            else:\n",
        "                high = mid - 1\n",
        "\n",
        "        return None\n",
        "\n",
        "\n",
        "# Initialize employee database\n",
        "database = EmployeeDatabase()\n",
        "\n",
        "# Add some employees\n",
        "database.add_employee(Employee(101, \"John Doe\", \"Engineering\"))\n",
        "database.add_employee(Employee(203, \"Jane Smith\", \"Marketing\"))\n",
        "database.add_employee(Employee(305, \"Michael Johnson\", \"HR\"))\n",
        "database.add_employee(Employee(407, \"Emily Brown\", \"Finance\"))\n",
        "database.add_employee(Employee(509, \"David Lee\", \"Operations\"))\n",
        "\n",
        "# Sort the employee list by ID\n",
        "database.sort_employee_list()\n"
      ]
    },
    {
      "cell_type": "code",
      "execution_count": null,
      "id": "df6940a5-f578-4a76-a28a-d13847bfd31f",
      "metadata": {
        "id": "df6940a5-f578-4a76-a28a-d13847bfd31f"
      },
      "outputs": [],
      "source": []
    },
    {
      "cell_type": "code",
      "execution_count": null,
      "id": "7afa5d92-8592-4e32-9f40-e0e2e0d81048",
      "metadata": {
        "id": "7afa5d92-8592-4e32-9f40-e0e2e0d81048"
      },
      "outputs": [],
      "source": [
        ".. ..."
      ]
    }
  ],
  "metadata": {
    "kernelspec": {
      "display_name": "Python 3 (ipykernel)",
      "language": "python",
      "name": "python3"
    },
    "language_info": {
      "codemirror_mode": {
        "name": "ipython",
        "version": 3
      },
      "file_extension": ".py",
      "mimetype": "text/x-python",
      "name": "python",
      "nbconvert_exporter": "python",
      "pygments_lexer": "ipython3",
      "version": "3.8.16"
    },
    "colab": {
      "provenance": [],
      "include_colab_link": true
    }
  },
  "nbformat": 4,
  "nbformat_minor": 5
}