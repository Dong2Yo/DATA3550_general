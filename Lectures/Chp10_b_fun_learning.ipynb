{
  "cells": [
    {
      "cell_type": "markdown",
      "metadata": {
        "id": "view-in-github",
        "colab_type": "text"
      },
      "source": [
        "<a href=\"https://colab.research.google.com/github/Dong2Yo/DATA3550_1232/blob/main/Lectures/Chp10_b_fun_learning.ipynb\" target=\"_parent\"><img src=\"https://colab.research.google.com/assets/colab-badge.svg\" alt=\"Open In Colab\"/></a>"
      ]
    },
    {
      "cell_type": "markdown",
      "id": "5a2b8b96-1a5b-44f8-ad35-0d86829b19e7",
      "metadata": {
        "id": "5a2b8b96-1a5b-44f8-ad35-0d86829b19e7"
      },
      "source": [
        "# Chapter 10 Inheritance Fun Learning"
      ]
    },
    {
      "cell_type": "markdown",
      "id": "6b949d63-9f7d-4a8a-b2a8-a46e41478eb8",
      "metadata": {
        "id": "6b949d63-9f7d-4a8a-b2a8-a46e41478eb8"
      },
      "source": [
        "## Case Study: Library Management System\n",
        "\n",
        "In this lab workbook, you will design and implement a library management system using advanced object-oriented programming concepts. The system will involve multiple classes, inheritance, polymorphism, encapsulation, and abstraction. You will create classes to represent library items, users, transactions, and more."
      ]
    },
    {
      "cell_type": "markdown",
      "id": "aefd5432-7e29-4982-a7d4-5923b59ea1ca",
      "metadata": {
        "id": "aefd5432-7e29-4982-a7d4-5923b59ea1ca"
      },
      "source": [
        "1. Create a class called LibraryItem with the following attributes and methods:\n",
        "\n",
        "- Attributes:\n",
        "   \n",
        "   title (string): Title of the item.\n",
        "   \n",
        "   location (string): Location of the item in the library.\n",
        "   \n",
        "- Methods:\n",
        "\n",
        "  checkout(self, user): Method to mark the item as checked out by a user.\n",
        "  \n",
        "  class LibraryItem:\n",
        "    def __init__(self, title, location):\n",
        "        self.title = title\n",
        "        self.location = location\n",
        "        self.checked_out = False\n",
        "    \n",
        "    def checkout(self, user):\n",
        "        if not self.checked_out:\n",
        "            self.checked_out = True\n",
        "            print(f\"{self.title} checked out by {user.name}.\")\n",
        "        else:\n",
        "            print(f\"{self.title} is already checked out.\")\n",
        "    \n",
        "    def checkin(self):\n",
        "        if self.checked_out:\n",
        "            self.checked_out = False\n",
        "            print(f\"{self.title} checked in.\")\n",
        "        else:\n",
        "            print(f\"{self.title} is not checked out.\")\n",
        "checkin(self): Method to mark the item as checked in."
      ]
    },
    {
      "cell_type": "code",
      "execution_count": null,
      "id": "981e6566-3747-4044-9298-2cb12e6bd6b6",
      "metadata": {
        "id": "981e6566-3747-4044-9298-2cb12e6bd6b6"
      },
      "outputs": [],
      "source": []
    },
    {
      "cell_type": "code",
      "execution_count": null,
      "id": "ea5ce5f6-cc6c-4cac-af0f-a301c9163cec",
      "metadata": {
        "id": "ea5ce5f6-cc6c-4cac-af0f-a301c9163cec"
      },
      "outputs": [],
      "source": []
    },
    {
      "cell_type": "markdown",
      "id": "8a3a952b-ca44-4fd8-9f0a-377d11315aad",
      "metadata": {
        "id": "8a3a952b-ca44-4fd8-9f0a-377d11315aad"
      },
      "source": [
        "2. Implement subclasses for different types of library items:\n",
        "\n",
        "   Book: Represents a book item with additional attributes such as author and pages.\n",
        "   \n",
        "   DVD: Represents a DVD item with additional attributes such as director and duration.\n",
        "   \n",
        "   Magazine: Represents a magazine item with an additional attribute issue."
      ]
    },
    {
      "cell_type": "code",
      "execution_count": null,
      "id": "a81b9646-a5aa-409d-8141-6279723a0dff",
      "metadata": {
        "id": "a81b9646-a5aa-409d-8141-6279723a0dff"
      },
      "outputs": [],
      "source": []
    },
    {
      "cell_type": "code",
      "execution_count": null,
      "id": "c1077672-d848-49ca-bf3d-4e1402d30857",
      "metadata": {
        "id": "c1077672-d848-49ca-bf3d-4e1402d30857"
      },
      "outputs": [],
      "source": []
    },
    {
      "cell_type": "markdown",
      "id": "68cbb7a2-a7d5-4248-bfe1-652ce5379770",
      "metadata": {
        "id": "68cbb7a2-a7d5-4248-bfe1-652ce5379770"
      },
      "source": [
        "3. Create a class called User to represent library users with attributes such as name, library_id, and methods to checkout and return items."
      ]
    },
    {
      "cell_type": "code",
      "execution_count": null,
      "id": "b6e6818d-7a69-44f5-89a6-18c040852885",
      "metadata": {
        "id": "b6e6818d-7a69-44f5-89a6-18c040852885"
      },
      "outputs": [],
      "source": []
    },
    {
      "cell_type": "code",
      "execution_count": null,
      "id": "b9d0168b-e699-4732-a5ab-87708522701a",
      "metadata": {
        "id": "b9d0168b-e699-4732-a5ab-87708522701a"
      },
      "outputs": [],
      "source": []
    },
    {
      "cell_type": "markdown",
      "id": "a483a083-d885-400e-b5e0-e60f99059b61",
      "metadata": {
        "id": "a483a083-d885-400e-b5e0-e60f99059b61"
      },
      "source": [
        "4. Implement a class called Transaction to represent transactions where a user checks out or returns a library item."
      ]
    },
    {
      "cell_type": "code",
      "execution_count": null,
      "id": "36b7b92b-cf4c-4231-919e-93c3c4da6c66",
      "metadata": {
        "id": "36b7b92b-cf4c-4231-919e-93c3c4da6c66"
      },
      "outputs": [],
      "source": []
    },
    {
      "cell_type": "code",
      "execution_count": null,
      "id": "46dc996b-e081-4127-acf0-c9c479242ee2",
      "metadata": {
        "id": "46dc996b-e081-4127-acf0-c9c479242ee2"
      },
      "outputs": [],
      "source": []
    },
    {
      "cell_type": "markdown",
      "id": "02ae504b-8562-45ef-9ca7-cace7e7754b5",
      "metadata": {
        "id": "02ae504b-8562-45ef-9ca7-cace7e7754b5"
      },
      "source": [
        "5. Demonstrate encapsulation by making appropriate attributes private and providing getter and setter methods for accessing and modifying them.\n",
        "\n"
      ]
    },
    {
      "cell_type": "code",
      "execution_count": null,
      "id": "b3460afc-24f8-4edb-a199-4a078c7081e6",
      "metadata": {
        "id": "b3460afc-24f8-4edb-a199-4a078c7081e6"
      },
      "outputs": [],
      "source": []
    },
    {
      "cell_type": "code",
      "execution_count": null,
      "id": "2a834a2d-f228-4a17-8612-8ffe0f6cef63",
      "metadata": {
        "id": "2a834a2d-f228-4a17-8612-8ffe0f6cef63"
      },
      "outputs": [],
      "source": []
    },
    {
      "cell_type": "markdown",
      "id": "e1be67f2-65cc-4424-ad11-f1d097ab8daf",
      "metadata": {
        "id": "e1be67f2-65cc-4424-ad11-f1d097ab8daf"
      },
      "source": [
        "6. Implement a class method or a static method to perform some utility operation related to library items."
      ]
    },
    {
      "cell_type": "code",
      "execution_count": null,
      "id": "80798fff-478d-4552-9d8b-c80b8ec5614b",
      "metadata": {
        "id": "80798fff-478d-4552-9d8b-c80b8ec5614b"
      },
      "outputs": [],
      "source": []
    },
    {
      "cell_type": "code",
      "execution_count": null,
      "id": "f7574b97-990e-4033-8a8a-dd768e73142d",
      "metadata": {
        "id": "f7574b97-990e-4033-8a8a-dd768e73142d"
      },
      "outputs": [],
      "source": []
    },
    {
      "cell_type": "code",
      "execution_count": null,
      "id": "51b5db71-3975-43d9-9f6a-1a9765da0692",
      "metadata": {
        "id": "51b5db71-3975-43d9-9f6a-1a9765da0692"
      },
      "outputs": [],
      "source": []
    }
  ],
  "metadata": {
    "kernelspec": {
      "display_name": "Python 3 (ipykernel)",
      "language": "python",
      "name": "python3"
    },
    "language_info": {
      "codemirror_mode": {
        "name": "ipython",
        "version": 3
      },
      "file_extension": ".py",
      "mimetype": "text/x-python",
      "name": "python",
      "nbconvert_exporter": "python",
      "pygments_lexer": "ipython3",
      "version": "3.8.16"
    },
    "colab": {
      "provenance": [],
      "include_colab_link": true
    }
  },
  "nbformat": 4,
  "nbformat_minor": 5
}