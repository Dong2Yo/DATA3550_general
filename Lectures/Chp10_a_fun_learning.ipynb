{
  "cells": [
    {
      "cell_type": "markdown",
      "metadata": {
        "id": "view-in-github",
        "colab_type": "text"
      },
      "source": [
        "<a href=\"https://colab.research.google.com/github/Dong2Yo/DATA3550_1232/blob/main/Lectures/Chp10_a_fun_learning.ipynb\" target=\"_parent\"><img src=\"https://colab.research.google.com/assets/colab-badge.svg\" alt=\"Open In Colab\"/></a>"
      ]
    },
    {
      "cell_type": "markdown",
      "id": "d1dbfb5a-35da-4cf9-a83f-14b72ae69781",
      "metadata": {
        "id": "d1dbfb5a-35da-4cf9-a83f-14b72ae69781"
      },
      "source": [
        "# Chapter 10 Inheritance - Fun Learning"
      ]
    },
    {
      "cell_type": "markdown",
      "id": "6407efe3-ae6a-4c31-ae3c-cae475146fe1",
      "metadata": {
        "id": "6407efe3-ae6a-4c31-ae3c-cae475146fe1"
      },
      "source": [
        "## Concept 1: Inheritance Hierarchies\n",
        "\n",
        "- Inheritance allows a class (subclass) to inherit attributes and methods from another class (superclass).\n",
        "\n",
        "- It forms a hierarchy where subclasses can extend and specialize the behavior of the superclass.\n"
      ]
    },
    {
      "cell_type": "markdown",
      "id": "d61c02c6-bb67-4faf-a451-4401f31b56ec",
      "metadata": {
        "id": "d61c02c6-bb67-4faf-a451-4401f31b56ec"
      },
      "source": [
        "**Business Case:**\n",
        "\n",
        "Suppose we are developing a software system for managing employees in a company.\n",
        "\n",
        "We have different types of employees such as full-time employees, part-time employees, and contractors.  \n",
        "\n",
        "Each type of employee has different attributes and behaviors.\n",
        "\n",
        "We will demonstrate the concepts of inheritance, subclasses, calling superclass constructor, method overriding, and polymorphism in this scenario."
      ]
    },
    {
      "cell_type": "code",
      "execution_count": null,
      "id": "6ea117c9-0b03-4e29-9e13-e8ffb213ff30",
      "metadata": {
        "id": "6ea117c9-0b03-4e29-9e13-e8ffb213ff30"
      },
      "outputs": [],
      "source": [
        "# Base class for all employees\n",
        "\n"
      ]
    },
    {
      "cell_type": "code",
      "execution_count": null,
      "id": "fb3bfcbe-7275-409d-9c37-5bd225466bbe",
      "metadata": {
        "id": "fb3bfcbe-7275-409d-9c37-5bd225466bbe"
      },
      "outputs": [],
      "source": [
        "# Full-time employee subclass\n"
      ]
    },
    {
      "cell_type": "code",
      "execution_count": null,
      "id": "cd401795-0feb-4adb-acdf-40f876fde8e7",
      "metadata": {
        "id": "cd401795-0feb-4adb-acdf-40f876fde8e7"
      },
      "outputs": [],
      "source": []
    },
    {
      "cell_type": "code",
      "execution_count": null,
      "id": "51f135a1-f5dc-49fc-8b8c-5cfa95e0b974",
      "metadata": {
        "id": "51f135a1-f5dc-49fc-8b8c-5cfa95e0b974"
      },
      "outputs": [],
      "source": []
    },
    {
      "cell_type": "markdown",
      "id": "44334a43-5493-45e2-b80a-790a8b5827dc",
      "metadata": {
        "id": "44334a43-5493-45e2-b80a-790a8b5827dc"
      },
      "source": [
        "## Concept 2: Implementing Subclasses\n",
        "\n",
        "Subclasses are specialized versions of a superclass, which inherit attributes and methods from the superclass.\n",
        "\n",
        "In our example, FullTimeEmployee, PartTimeEmployee, and Contractor are subclasses of the Employee class, inheriting its attributes and methods while also having their own unique attributes and methods.\n"
      ]
    },
    {
      "cell_type": "code",
      "execution_count": null,
      "id": "8846a767-a57a-4910-9229-50a551469736",
      "metadata": {
        "id": "8846a767-a57a-4910-9229-50a551469736"
      },
      "outputs": [],
      "source": [
        "# Part-time employee subclass\n",
        "\n",
        "\n"
      ]
    },
    {
      "cell_type": "code",
      "execution_count": null,
      "id": "a6d54769-8070-4c71-ba4e-f6d0a323e70c",
      "metadata": {
        "id": "a6d54769-8070-4c71-ba4e-f6d0a323e70c"
      },
      "outputs": [],
      "source": [
        "\n",
        "# Contractor subclass\n",
        "\n",
        "\n"
      ]
    },
    {
      "cell_type": "code",
      "execution_count": null,
      "id": "2c2ecc44-bbb5-49a4-9035-d1b3df5deb0a",
      "metadata": {
        "id": "2c2ecc44-bbb5-49a4-9035-d1b3df5deb0a"
      },
      "outputs": [],
      "source": []
    },
    {
      "cell_type": "code",
      "execution_count": null,
      "id": "c57ead8d-6398-45e5-a348-3d8af4c709e5",
      "metadata": {
        "id": "c57ead8d-6398-45e5-a348-3d8af4c709e5"
      },
      "outputs": [],
      "source": []
    },
    {
      "cell_type": "markdown",
      "id": "60bef5f1-4d32-46a4-8e85-0035eec886bd",
      "metadata": {
        "id": "60bef5f1-4d32-46a4-8e85-0035eec886bd"
      },
      "source": [
        "## Concept 3: Calling the Superclass Constructor\n",
        "\n",
        "When defining a subclass, we often need to initialize attributes defined in the superclass.\n",
        "\n",
        "We can do this using the super() function to call the superclass constructor.\n",
        "\n",
        "In our example, each subclass calls the superclass constructor using super().__init__() method,passing the required parameters along with any additional parameters specific to the subclass."
      ]
    },
    {
      "cell_type": "code",
      "execution_count": null,
      "id": "d963e2a3-17c6-4aa9-b1a2-baaefdde6079",
      "metadata": {
        "id": "d963e2a3-17c6-4aa9-b1a2-baaefdde6079"
      },
      "outputs": [],
      "source": [
        "# Full-time employee subclass\n",
        "\n",
        "\n",
        "# Part-time employee subclass\n",
        "\n",
        "\n",
        "\n",
        "# Contractor subclass\n",
        "\n",
        "\n",
        ""
      ]
    },
    {
      "cell_type": "markdown",
      "id": "b8cb4a51-63f6-453d-833b-344390bf7511",
      "metadata": {
        "id": "b8cb4a51-63f6-453d-833b-344390bf7511"
      },
      "source": [
        "### Example 1: Using super().__init__(name, employee_id) (Proper Initialization)"
      ]
    },
    {
      "cell_type": "code",
      "execution_count": null,
      "id": "14253e78-8a8e-4314-9da2-ecadf8e42836",
      "metadata": {
        "id": "14253e78-8a8e-4314-9da2-ecadf8e42836"
      },
      "outputs": [],
      "source": [
        "\n"
      ]
    },
    {
      "cell_type": "markdown",
      "id": "fff92624-64dd-44ed-b9b8-8a4d9cebcf21",
      "metadata": {
        "id": "fff92624-64dd-44ed-b9b8-8a4d9cebcf21"
      },
      "source": [
        "### Example 2: Not Using super().__init__(name, employee_id) (Incorrect Initialization)"
      ]
    },
    {
      "cell_type": "code",
      "execution_count": null,
      "id": "c00e4a36-9e5e-48e8-9e22-8acc6c27f947",
      "metadata": {
        "id": "c00e4a36-9e5e-48e8-9e22-8acc6c27f947"
      },
      "outputs": [],
      "source": []
    },
    {
      "cell_type": "markdown",
      "id": "46ccdcee-af18-41c7-ad55-95136f60b5ed",
      "metadata": {
        "id": "46ccdcee-af18-41c7-ad55-95136f60b5ed"
      },
      "source": [
        "## Concept 4: Overriding Methods\n",
        "\n",
        "Subclasses can override methods of the superclass to provide their own implementation.\n",
        "\n",
        "This allows subclasses to customize behavior while still retaining the interface defined by the superclass.\n"
      ]
    },
    {
      "cell_type": "code",
      "execution_count": null,
      "id": "a5daea0c-0a28-436c-b1a2-83cb03abda4f",
      "metadata": {
        "id": "a5daea0c-0a28-436c-b1a2-83cb03abda4f"
      },
      "outputs": [],
      "source": [
        "# Base class for all employees\n",
        "class Employee:\n",
        "    def __init__(self, name, employee_id):\n",
        "        self.name = name\n",
        "        self.employee_id = employee_id\n",
        "\n",
        "    def calculate_pay(self):\n",
        "        pass\n",
        "\n",
        "   # the vocation() method"
      ]
    },
    {
      "cell_type": "code",
      "execution_count": null,
      "id": "d514d28c-7d5c-495a-ae94-11410765383c",
      "metadata": {
        "id": "d514d28c-7d5c-495a-ae94-11410765383c"
      },
      "outputs": [],
      "source": [
        "# Contractor subclass\n",
        "class Contractor(Employee):\n",
        "    def __init__(self, name, employee_id, hourly_rate, hours_worked):\n",
        "        super().__init__(name, employee_id)\n",
        "        self.hourly_rate = hourly_rate\n",
        "        self.hours_worked = hours_worked\n",
        "\n",
        "    # Overriding the vocation() method\n",
        "\n",
        ""
      ]
    },
    {
      "cell_type": "code",
      "execution_count": null,
      "id": "def37926-2f5f-406d-bfc0-974418707be1",
      "metadata": {
        "id": "def37926-2f5f-406d-bfc0-974418707be1"
      },
      "outputs": [],
      "source": []
    },
    {
      "cell_type": "code",
      "execution_count": null,
      "id": "b74b5789-1bc4-4c50-94ef-440badcd396a",
      "metadata": {
        "id": "b74b5789-1bc4-4c50-94ef-440badcd396a"
      },
      "outputs": [],
      "source": []
    },
    {
      "cell_type": "markdown",
      "id": "5a84e4bf-ae4a-42c6-be2f-2529a1fff065",
      "metadata": {
        "id": "5a84e4bf-ae4a-42c6-be2f-2529a1fff065"
      },
      "source": [
        "## Concept 5: Polymorphism\n",
        "\n",
        "Polymorphism allows objects of different classes to be treated as objects of a common superclass. It enables code to work with objects of multiple types through a single interface.\n",
        "\n",
        "In our business case, we have a list containing instances of FullTimeEmployee, PartTimeEmployee, and Contractor. Despite being different types of employees, we can iterate through the list and call the calculate_pay() method for each employee.\n",
        "\n",
        "This demonstrates polymorphic behavior, where objects of different subclasses can be treated uniformly through a common superclass interface."
      ]
    },
    {
      "cell_type": "code",
      "execution_count": null,
      "id": "79afccc1-9d32-48ea-a615-33d37027b05c",
      "metadata": {
        "id": "79afccc1-9d32-48ea-a615-33d37027b05c"
      },
      "outputs": [],
      "source": [
        "# Contractor subclass\n"
      ]
    },
    {
      "cell_type": "code",
      "execution_count": null,
      "id": "f7df1ba4-24bc-4f1f-a1d7-0d33ec1b00e6",
      "metadata": {
        "id": "f7df1ba4-24bc-4f1f-a1d7-0d33ec1b00e6"
      },
      "outputs": [],
      "source": []
    },
    {
      "cell_type": "code",
      "execution_count": null,
      "id": "a894f47a-db12-4c5d-a78f-83a19ce13568",
      "metadata": {
        "id": "a894f47a-db12-4c5d-a78f-83a19ce13568"
      },
      "outputs": [],
      "source": []
    },
    {
      "cell_type": "markdown",
      "id": "846f1b05-99f9-4744-8137-924c4719d453",
      "metadata": {
        "id": "846f1b05-99f9-4744-8137-924c4719d453"
      },
      "source": [
        "## Ex."
      ]
    },
    {
      "cell_type": "markdown",
      "id": "6decebf9-a0da-483e-8985-0c4f15c589ea",
      "metadata": {
        "id": "6decebf9-a0da-483e-8985-0c4f15c589ea"
      },
      "source": [
        "**Online Retail System**\n",
        "\n",
        "In this lab exercise, you will be implementing an inheritance hierarchy for an online retail system. The system consists of different types of products, each with its own specific properties and behaviors.\n",
        "\n",
        "You will create a base class representing a generic product, and then extend this class to create subclasses for different types of products. You will also implement methods to calculate the total price of products in a shopping cart and demonstrate polymorphism by using objects of different subclasses interchangeably.\n",
        "\n"
      ]
    },
    {
      "cell_type": "markdown",
      "id": "957f47f7-1682-4ec3-840e-a3b40119997d",
      "metadata": {
        "id": "957f47f7-1682-4ec3-840e-a3b40119997d"
      },
      "source": [
        "1. Create a base class called Product with the following attributes and methods:\n",
        "\n",
        "- Attributes:\n",
        "   \n",
        "   name (string): Name of the product.\n",
        "   price (float): Price of the product.\n",
        "\n",
        "- Methods:\n",
        "\n",
        "  calculate_total_price(self, quantity): Method to calculate the total price of a given quantity of the product.\n",
        "\n"
      ]
    },
    {
      "cell_type": "code",
      "execution_count": null,
      "id": "e7cc927b-ca91-47d0-8960-4e17e93eb600",
      "metadata": {
        "id": "e7cc927b-ca91-47d0-8960-4e17e93eb600"
      },
      "outputs": [],
      "source": []
    },
    {
      "cell_type": "markdown",
      "id": "06bd7892-4ddd-4aff-be9d-58ac483bd1bc",
      "metadata": {
        "id": "06bd7892-4ddd-4aff-be9d-58ac483bd1bc"
      },
      "source": [
        "2. Implement subclasses for different types of products:\n",
        "\n",
        "   Book: Represents a book product with an additional attribute author. Apply 10% discount for books\n",
        "   \n",
        "   Electronics: Represents an electronics product with an additional attribute manufacturer. # Apply 5% tax for electronics\n",
        "   \n",
        "   Clothing: Represents a clothing product with an additional attribute size. No discount or tax for clothing\n",
        "\n",
        "Override the calculate_total_price method in each subclass to apply any necessary adjustments or discounts specific to that type of product."
      ]
    },
    {
      "cell_type": "code",
      "execution_count": null,
      "id": "0d7fbdb0-6606-4af0-a6a5-3bdd441de6e7",
      "metadata": {
        "id": "0d7fbdb0-6606-4af0-a6a5-3bdd441de6e7"
      },
      "outputs": [],
      "source": []
    },
    {
      "cell_type": "markdown",
      "id": "404a645b-0ea4-4035-adfe-8785402b5026",
      "metadata": {
        "id": "404a645b-0ea4-4035-adfe-8785402b5026"
      },
      "source": [
        "3. Demonstrate polymorphism by creating objects of different subclasses and calling the calculate_total_price method on each object interchangeably."
      ]
    },
    {
      "cell_type": "code",
      "execution_count": null,
      "id": "6994010e-6e81-4f3d-b869-c2a987b66cd4",
      "metadata": {
        "id": "6994010e-6e81-4f3d-b869-c2a987b66cd4"
      },
      "outputs": [],
      "source": []
    },
    {
      "cell_type": "code",
      "execution_count": null,
      "id": "95fd18b2-38a1-439d-8365-45ddb8d575b8",
      "metadata": {
        "id": "95fd18b2-38a1-439d-8365-45ddb8d575b8"
      },
      "outputs": [],
      "source": []
    },
    {
      "cell_type": "code",
      "execution_count": null,
      "id": "3308db69-c86d-43d2-89b1-2b85ebd3c2a5",
      "metadata": {
        "id": "3308db69-c86d-43d2-89b1-2b85ebd3c2a5"
      },
      "outputs": [],
      "source": []
    }
  ],
  "metadata": {
    "kernelspec": {
      "display_name": "Python 3 (ipykernel)",
      "language": "python",
      "name": "python3"
    },
    "language_info": {
      "codemirror_mode": {
        "name": "ipython",
        "version": 3
      },
      "file_extension": ".py",
      "mimetype": "text/x-python",
      "name": "python",
      "nbconvert_exporter": "python",
      "pygments_lexer": "ipython3",
      "version": "3.8.16"
    },
    "colab": {
      "provenance": [],
      "include_colab_link": true
    }
  },
  "nbformat": 4,
  "nbformat_minor": 5
}